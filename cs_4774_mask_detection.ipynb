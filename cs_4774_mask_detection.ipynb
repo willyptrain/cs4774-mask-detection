{
  "nbformat": 4,
  "nbformat_minor": 0,
  "metadata": {
    "colab": {
      "name": "cs-4774-mask-detection.ipynb",
      "provenance": [],
      "collapsed_sections": [],
      "authorship_tag": "ABX9TyMvDmZvj6iIZwRfQYrsTRip",
      "include_colab_link": true
    },
    "kernelspec": {
      "name": "python3",
      "display_name": "Python 3"
    },
    "widgets": {
      "application/vnd.jupyter.widget-state+json": {
        "9639134c49c1400f97efd47e930f6e68": {
          "model_module": "@jupyter-widgets/controls",
          "model_name": "HBoxModel",
          "state": {
            "_view_name": "HBoxView",
            "_dom_classes": [],
            "_model_name": "HBoxModel",
            "_view_module": "@jupyter-widgets/controls",
            "_model_module_version": "1.5.0",
            "_view_count": null,
            "_view_module_version": "1.5.0",
            "box_style": "",
            "layout": "IPY_MODEL_c347e4a1ea9b4cf1840517cb5a46aa57",
            "_model_module": "@jupyter-widgets/controls",
            "children": [
              "IPY_MODEL_f21f3437be974b31b9a9f7cfea23d836",
              "IPY_MODEL_84a6bd2f04124e6d948fae5c7c1b30ba"
            ]
          }
        },
        "c347e4a1ea9b4cf1840517cb5a46aa57": {
          "model_module": "@jupyter-widgets/base",
          "model_name": "LayoutModel",
          "state": {
            "_view_name": "LayoutView",
            "grid_template_rows": null,
            "right": null,
            "justify_content": null,
            "_view_module": "@jupyter-widgets/base",
            "overflow": null,
            "_model_module_version": "1.2.0",
            "_view_count": null,
            "flex_flow": null,
            "width": null,
            "min_width": null,
            "border": null,
            "align_items": null,
            "bottom": null,
            "_model_module": "@jupyter-widgets/base",
            "top": null,
            "grid_column": null,
            "overflow_y": null,
            "overflow_x": null,
            "grid_auto_flow": null,
            "grid_area": null,
            "grid_template_columns": null,
            "flex": null,
            "_model_name": "LayoutModel",
            "justify_items": null,
            "grid_row": null,
            "max_height": null,
            "align_content": null,
            "visibility": null,
            "align_self": null,
            "height": null,
            "min_height": null,
            "padding": null,
            "grid_auto_rows": null,
            "grid_gap": null,
            "max_width": null,
            "order": null,
            "_view_module_version": "1.2.0",
            "grid_template_areas": null,
            "object_position": null,
            "object_fit": null,
            "grid_auto_columns": null,
            "margin": null,
            "display": null,
            "left": null
          }
        },
        "f21f3437be974b31b9a9f7cfea23d836": {
          "model_module": "@jupyter-widgets/controls",
          "model_name": "FloatProgressModel",
          "state": {
            "_view_name": "ProgressView",
            "style": "IPY_MODEL_cf4225cf1fe64c53a51c5d483b4d23f5",
            "_dom_classes": [],
            "description": "100%",
            "_model_name": "FloatProgressModel",
            "bar_style": "success",
            "max": 167502836,
            "_view_module": "@jupyter-widgets/controls",
            "_model_module_version": "1.5.0",
            "value": 167502836,
            "_view_count": null,
            "_view_module_version": "1.5.0",
            "orientation": "horizontal",
            "min": 0,
            "description_tooltip": null,
            "_model_module": "@jupyter-widgets/controls",
            "layout": "IPY_MODEL_679d18c391f34cafab69e9d66fb78172"
          }
        },
        "84a6bd2f04124e6d948fae5c7c1b30ba": {
          "model_module": "@jupyter-widgets/controls",
          "model_name": "HTMLModel",
          "state": {
            "_view_name": "HTMLView",
            "style": "IPY_MODEL_2de309a679234971b7da47df8c8567d0",
            "_dom_classes": [],
            "description": "",
            "_model_name": "HTMLModel",
            "placeholder": "​",
            "_view_module": "@jupyter-widgets/controls",
            "_model_module_version": "1.5.0",
            "value": " 160M/160M [12:13&lt;00:00, 228kB/s]",
            "_view_count": null,
            "_view_module_version": "1.5.0",
            "description_tooltip": null,
            "_model_module": "@jupyter-widgets/controls",
            "layout": "IPY_MODEL_675421d9d2ad43acab2d69382220be26"
          }
        },
        "cf4225cf1fe64c53a51c5d483b4d23f5": {
          "model_module": "@jupyter-widgets/controls",
          "model_name": "ProgressStyleModel",
          "state": {
            "_view_name": "StyleView",
            "_model_name": "ProgressStyleModel",
            "description_width": "initial",
            "_view_module": "@jupyter-widgets/base",
            "_model_module_version": "1.5.0",
            "_view_count": null,
            "_view_module_version": "1.2.0",
            "bar_color": null,
            "_model_module": "@jupyter-widgets/controls"
          }
        },
        "679d18c391f34cafab69e9d66fb78172": {
          "model_module": "@jupyter-widgets/base",
          "model_name": "LayoutModel",
          "state": {
            "_view_name": "LayoutView",
            "grid_template_rows": null,
            "right": null,
            "justify_content": null,
            "_view_module": "@jupyter-widgets/base",
            "overflow": null,
            "_model_module_version": "1.2.0",
            "_view_count": null,
            "flex_flow": null,
            "width": null,
            "min_width": null,
            "border": null,
            "align_items": null,
            "bottom": null,
            "_model_module": "@jupyter-widgets/base",
            "top": null,
            "grid_column": null,
            "overflow_y": null,
            "overflow_x": null,
            "grid_auto_flow": null,
            "grid_area": null,
            "grid_template_columns": null,
            "flex": null,
            "_model_name": "LayoutModel",
            "justify_items": null,
            "grid_row": null,
            "max_height": null,
            "align_content": null,
            "visibility": null,
            "align_self": null,
            "height": null,
            "min_height": null,
            "padding": null,
            "grid_auto_rows": null,
            "grid_gap": null,
            "max_width": null,
            "order": null,
            "_view_module_version": "1.2.0",
            "grid_template_areas": null,
            "object_position": null,
            "object_fit": null,
            "grid_auto_columns": null,
            "margin": null,
            "display": null,
            "left": null
          }
        },
        "2de309a679234971b7da47df8c8567d0": {
          "model_module": "@jupyter-widgets/controls",
          "model_name": "DescriptionStyleModel",
          "state": {
            "_view_name": "StyleView",
            "_model_name": "DescriptionStyleModel",
            "description_width": "",
            "_view_module": "@jupyter-widgets/base",
            "_model_module_version": "1.5.0",
            "_view_count": null,
            "_view_module_version": "1.2.0",
            "_model_module": "@jupyter-widgets/controls"
          }
        },
        "675421d9d2ad43acab2d69382220be26": {
          "model_module": "@jupyter-widgets/base",
          "model_name": "LayoutModel",
          "state": {
            "_view_name": "LayoutView",
            "grid_template_rows": null,
            "right": null,
            "justify_content": null,
            "_view_module": "@jupyter-widgets/base",
            "overflow": null,
            "_model_module_version": "1.2.0",
            "_view_count": null,
            "flex_flow": null,
            "width": null,
            "min_width": null,
            "border": null,
            "align_items": null,
            "bottom": null,
            "_model_module": "@jupyter-widgets/base",
            "top": null,
            "grid_column": null,
            "overflow_y": null,
            "overflow_x": null,
            "grid_auto_flow": null,
            "grid_area": null,
            "grid_template_columns": null,
            "flex": null,
            "_model_name": "LayoutModel",
            "justify_items": null,
            "grid_row": null,
            "max_height": null,
            "align_content": null,
            "visibility": null,
            "align_self": null,
            "height": null,
            "min_height": null,
            "padding": null,
            "grid_auto_rows": null,
            "grid_gap": null,
            "max_width": null,
            "order": null,
            "_view_module_version": "1.2.0",
            "grid_template_areas": null,
            "object_position": null,
            "object_fit": null,
            "grid_auto_columns": null,
            "margin": null,
            "display": null,
            "left": null
          }
        }
      }
    }
  },
  "cells": [
    {
      "cell_type": "markdown",
      "metadata": {
        "id": "view-in-github",
        "colab_type": "text"
      },
      "source": [
        "<a href=\"https://colab.research.google.com/github/willyptrain/cs4774-mask-detection/blob/main/cs_4774_mask_detection.ipynb\" target=\"_parent\"><img src=\"https://colab.research.google.com/assets/colab-badge.svg\" alt=\"Open In Colab\"/></a>"
      ]
    },
    {
      "cell_type": "code",
      "metadata": {
        "id": "PhiL4uw770_d",
        "outputId": "20d5ee77-5bc3-49ac-869f-993e6d230c57",
        "colab": {
          "base_uri": "https://localhost:8080/"
        }
      },
      "source": [
        "from google.colab import drive\n",
        "drive.mount(\"/content/drive/\")\n",
        "\n",
        "!unzip 'drive/My Drive/face_mask_detection.zip'"
      ],
      "execution_count": 41,
      "outputs": [
        {
          "output_type": "stream",
          "text": [
            "Drive already mounted at /content/drive/; to attempt to forcibly remount, call drive.mount(\"/content/drive/\", force_remount=True).\n",
            "Archive:  drive/My Drive/face_mask_detection.zip\n",
            "replace annotations/maksssksksss0.xml? [y]es, [n]o, [A]ll, [N]one, [r]ename: "
          ],
          "name": "stdout"
        }
      ]
    },
    {
      "cell_type": "code",
      "metadata": {
        "id": "XICtNtXc_tZT"
      },
      "source": [
        "import torchvision\n",
        "import glob\n",
        "import os\n",
        "from bs4 import BeautifulSoup\n",
        "import numpy as np\n"
      ],
      "execution_count": 43,
      "outputs": []
    },
    {
      "cell_type": "code",
      "metadata": {
        "id": "ye0RiLOV8EQ1",
        "outputId": "95913822-f07f-46e0-ddd1-8b549808f0c3",
        "colab": {
          "base_uri": "https://localhost:8080/"
        }
      },
      "source": [
        "\n",
        "\n",
        "def load_train_split_paths(directory):\n",
        "  img_paths = glob.iglob(directory)\n",
        "  path_bases = []\n",
        "  for path in img_paths:\n",
        "    path_bases.append(path.split(\"/\")[1].rstrip(\".png\"))\n",
        "\n",
        "  path_bases = sorted(path_bases)\n",
        "\n",
        "  train_paths = path_bases[0:500]\n",
        "  val_paths = path_bases[500:700]\n",
        "  test_paths = path_bases[700:]\n",
        "\n",
        "  print(\"Training size:\", len(train_paths))\n",
        "  print(\"Validation size:\", len(val_paths))\n",
        "  print(\"Testing size:\", len(test_paths))\n",
        "  return train_paths, val_paths, test_paths\n",
        "\n",
        "train_paths, val_paths, test_paths = load_train_split_paths(\"images/*\")"
      ],
      "execution_count": 44,
      "outputs": [
        {
          "output_type": "stream",
          "text": [
            "Training size: 500\n",
            "Validation size: 200\n",
            "Testing size: 153\n"
          ],
          "name": "stdout"
        }
      ]
    },
    {
      "cell_type": "code",
      "metadata": {
        "id": "zGfJsuX5_Sk2"
      },
      "source": [
        "def read_annotations(base_dir, paths):\n",
        "  label_mappings = {\"with_mask\": 0, \"mask_weared_incorrect\": 1, \"without_mask\":2}\n",
        "  annotation_set = {}\n",
        "  y = []\n",
        "  y_labels = []\n",
        "  y_boxes = []\n",
        "  for path in paths:\n",
        "    xml_path = os.path.join(base_dir, path) + \".xml\"\n",
        "    with open(xml_path) as f:\n",
        "      contents = f.read()\n",
        "    xml_read = BeautifulSoup(contents, \"xml\")\n",
        "    \n",
        "    classes = []\n",
        "    boxes = []\n",
        "\n",
        "    truth_detections = xml_read.find_all(\"object\")\n",
        "    for obj in truth_detections:\n",
        "      xmin = int(obj.find('xmin').text)\n",
        "      xmax = int(obj.find('xmax').text)\n",
        "      ymin = int(obj.find('ymin').text)\n",
        "      ymax = int(obj.find('ymax').text)\n",
        "      boxes.append([xmin, xmax, ymin, ymax])\n",
        "      if(obj.name in label_mappings):\n",
        "        classes.append(label_mappings[obj.name])\n",
        "      else: \n",
        "        classes.append(-1)\n",
        "\n",
        "    classes = np.array(classes)\n",
        "    boxes = np.array(boxes)\n",
        "    y_boxes.append(boxes)\n",
        "    y_labels.append(classes)\n",
        "  \n",
        "\n",
        "    annotation_set[path] = [classes, boxes]\n",
        "\n",
        "    y.append([classes, boxes])\n",
        "    return annotation_set, y_boxes, y_labels\n",
        "\n",
        "\n",
        "train_annotation_set, y_train_boxes, y_train_labels = read_annotations('annotations/', train_paths)\n",
        "val_annotation_set, y_val_boxes, y_val_labels = read_annotations('annotations/', val_paths)"
      ],
      "execution_count": 47,
      "outputs": []
    },
    {
      "cell_type": "code",
      "metadata": {
        "id": "sjD4fwu5X3HD",
        "outputId": "e94cee5c-8a3e-4f37-c03c-5d60a292fe3c",
        "colab": {
          "base_uri": "https://localhost:8080/"
        }
      },
      "source": [
        "from torchvision import transforms, datasets, models\n",
        "from torch.utils.data import Dataset\n",
        "\n",
        "\n",
        "class FaceMaskDataset(Dataset):\n",
        "  def __init__(self, labels, boxes, transform=None):\n",
        "    self.base_dir = 'images/'\n",
        "    self.labels = labels #actual labels/classes from read_annotations()\n",
        "    self.boxes = boxes #actual boxes from read_annotations()\n",
        "    self.transform = transform #in case data needs to be transformed to torch tensor before fed into model\n",
        "\n",
        "\n",
        "  def __getitem__(self, idx):\n",
        "    if(torch.is_tensor(idx)):\n",
        "      idx = idx.tolist()\n",
        "\n",
        "    image_path = os.listdir(self.base_dir, 'maksssksksss', idx, \".png\")\n",
        "    print(image_path)\n",
        "\n",
        "  def __len__(self):\n",
        "    return len(self.labels)\n",
        "\n",
        "\n",
        "mask_dataset = FaceMaskDataset(labels=y_train_labels, boxes=y_train_boxes)\n",
        "print(mask_dataset)\n"
      ],
      "execution_count": 59,
      "outputs": [
        {
          "output_type": "stream",
          "text": [
            "<__main__.FaceMaskDataset object at 0x7f2d426420b8>\n"
          ],
          "name": "stdout"
        }
      ]
    },
    {
      "cell_type": "code",
      "metadata": {
        "id": "D5IedgXDP9CI",
        "outputId": "646362fe-85c5-4541-c313-dbe9762ffc74",
        "colab": {
          "base_uri": "https://localhost:8080/",
          "height": 104,
          "referenced_widgets": [
            "9639134c49c1400f97efd47e930f6e68",
            "c347e4a1ea9b4cf1840517cb5a46aa57",
            "f21f3437be974b31b9a9f7cfea23d836",
            "84a6bd2f04124e6d948fae5c7c1b30ba",
            "cf4225cf1fe64c53a51c5d483b4d23f5",
            "679d18c391f34cafab69e9d66fb78172",
            "2de309a679234971b7da47df8c8567d0",
            "675421d9d2ad43acab2d69382220be26"
          ]
        }
      },
      "source": [
        "model = torchvision.models.detection.fasterrcnn_resnet50_fpn(pretrained=True)\n",
        "\n"
      ],
      "execution_count": 48,
      "outputs": [
        {
          "output_type": "stream",
          "text": [
            "Downloading: \"https://download.pytorch.org/models/fasterrcnn_resnet50_fpn_coco-258fb6c6.pth\" to /root/.cache/torch/hub/checkpoints/fasterrcnn_resnet50_fpn_coco-258fb6c6.pth\n"
          ],
          "name": "stderr"
        },
        {
          "output_type": "display_data",
          "data": {
            "application/vnd.jupyter.widget-view+json": {
              "model_id": "9639134c49c1400f97efd47e930f6e68",
              "version_minor": 0,
              "version_major": 2
            },
            "text/plain": [
              "HBox(children=(FloatProgress(value=0.0, max=167502836.0), HTML(value='')))"
            ]
          },
          "metadata": {
            "tags": []
          }
        },
        {
          "output_type": "stream",
          "text": [
            "\n"
          ],
          "name": "stdout"
        }
      ]
    },
    {
      "cell_type": "code",
      "metadata": {
        "id": "XwwRgYf7XOON"
      },
      "source": [
        ""
      ],
      "execution_count": null,
      "outputs": []
    }
  ]
}